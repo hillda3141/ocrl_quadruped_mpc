{
 "cells": [
  {
   "cell_type": "markdown",
   "id": "a23aae7b",
   "metadata": {},
   "source": [
    "## Q3 (5 pts)\n",
    "\n",
    "Please fill out the following project form (one per group). This will primarily be for the TAs to use to understand what you are working on and hopefully be able to better assist you. If you haven't decided on certain aspects of the project, just include what you are currently thinking/what decisions you need to make."
   ]
  },
  {
   "cell_type": "markdown",
   "id": "7674d43c",
   "metadata": {},
   "source": [
    "\n",
    "**(1) Write down your dynamics (handwritten, code, or latex). This can be continuous-time (include how you are discretizing your system) or discrete-time.**"
   ]
  },
  {
   "cell_type": "markdown",
   "id": "1a4f2b77",
   "metadata": {},
   "source": [
    "Below are our dynamics for the quadruped. We will assume that the mass of the legs is negligible when compared to the mass of the body. Thus, our dynamics reduce to the dynamics of a point-mass with rotational inertia. We will discritize these dynamics by implementing RK4 and using the ForwardDiff package to get the gradient with respect to state and input.\n",
    "\n",
    "$m\\dot{v} = -mg + \\sum_i{f_i} $\n",
    "\n",
    "$J\\dot{\\omega} = \\omega \\times J \\omega = \\sum_i r_i \\times f_i$\n",
    "\n",
    "$\\dot{r} = v$\n",
    "\n",
    "$\\dot{q} = \\frac{1}{2} q * \\omega$"
   ]
  },
  {
   "cell_type": "markdown",
   "id": "a354260d",
   "metadata": {},
   "source": [
    "**(2) What is your state (what does each variable represent)?**"
   ]
  },
  {
   "cell_type": "markdown",
   "id": "44a79fa4",
   "metadata": {},
   "source": [
    "Our state is the composed of four parts: the position of the body ($r \\in \\mathbb{R}^3$), the rotation of the body ($q \\in \\mathbb{H}$), the linear velocity of the body ($v \\in \\mathbb{R}^3$), and the rotational velocity of the body ($\\omega \\in \\mathbb{R}^3$).\n",
    "\n",
    "$x = \\left[ \\matrix{r\\\\q\\\\v\\\\\\omega} \\right]$"
   ]
  },
  {
   "cell_type": "markdown",
   "id": "b5182ec6",
   "metadata": {},
   "source": [
    "**(3) What is your control (what does each variable represent)?**"
   ]
  },
  {
   "cell_type": "markdown",
   "id": "679724a4",
   "metadata": {},
   "source": [
    "Our control variable $u \\in \\mathbb{R}^12$ is composed of a force vector $f_i \\in \\mathbb{R}^3$ for each of the four feet. The force vector is broken into x, y, and z directions.\n",
    "\n",
    "$u = \\left[ \\matrix{f_1\\\\f_2\\\\f_3\\\\f_4} \\right]$\n",
    "\n",
    "$f_i = \\left[ \\matrix{f_i^x\\\\f_i^y\\\\f_i^z} \\right]$"
   ]
  },
  {
   "cell_type": "markdown",
   "id": "1ab1ee48",
   "metadata": {},
   "source": [
    "**(4) Briefly describe your goal for the project. What are you trying to make the system do? Specify whether you are doing control, trajectory optimization, both, or something else.**"
   ]
  },
  {
   "cell_type": "markdown",
   "id": "792fedf6",
   "metadata": {},
   "source": [
    "We have a reference trajectory which, like Q2 in HW4, will be linear interpolation between a start and end state and we will solve the trajectory optimization problem. The goal is to also have a MPC controller that can make the robot walk in uncertain scenarios like for example on a ramp or with different friction coefficients or with sudden addition of weight."
   ]
  },
  {
   "cell_type": "markdown",
   "id": "3b646102",
   "metadata": {},
   "source": [
    "**(5) What are your costs?**"
   ]
  },
  {
   "cell_type": "markdown",
   "id": "de84db11",
   "metadata": {},
   "source": [
    "To start, we will implement a standard MPC controller for a quadruped as described in the MIT Cheetah paper. Once we have this working, we will add additional arguments to make it more robust to various errors in our model. We will format the control problem as a QP that solves a trajectory optimization problem over a finite horizon (MPC). This problem is written below.\n",
    "\n",
    "\\begin{align*}\n",
    "\\min\\limits_{x_{1:N},u_{1:N-1}} \\sum \\frac{1}{2} (x - \\bar{x})^T Q (x - \\bar{x}) + \\frac{1}{2} (u - \\bar{u})^T R (u - \\bar{u})\n",
    "\\end{align*}"
   ]
  },
  {
   "cell_type": "markdown",
   "id": "368c8b17",
   "metadata": {},
   "source": [
    "**(6) What are your constraints?**"
   ]
  },
  {
   "cell_type": "markdown",
   "id": "4da33bfd",
   "metadata": {},
   "source": [
    "\\begin{align*}\n",
    "    x_{k+1} = A x_k + B u_k\n",
    "\\end{align*}\n",
    "\n",
    "\\begin{align*}\n",
    "    ||u_n^{x,y}|| \\le \\mu u_n^z\n",
    "\\end{align*}"
   ]
  },
  {
   "cell_type": "markdown",
   "id": "a0b8ffd2",
   "metadata": {},
   "source": [
    "**(7) What solution methods are you going to try?**\n"
   ]
  },
  {
   "cell_type": "markdown",
   "id": "3188e8af",
   "metadata": {},
   "source": [
    "For trajectory optimization we can try something similar to fmincon using IPOPT that we have been using in our assignments. So essentially since our initial guess could be infeasible we could use DIRCOL. We will also be trying to use cvx.jl to solve the QP that we are setting up, as after the assumptions our quadruped dynamics and costs and constraints would be convex. Either of these should work and we would be trying both of these methods."
   ]
  },
  {
   "cell_type": "markdown",
   "id": "7f8d9a7d",
   "metadata": {},
   "source": [
    "**(8) What have you tried so far?**"
   ]
  },
  {
   "cell_type": "markdown",
   "id": "e8bbf4ae",
   "metadata": {},
   "source": [
    "We have so far been working on the literature review and trying to understand and assimilate all the resources to actually get started with the work. We have also been looking at the best ways to get the simulation and environment set up and properly define the problem so that we get some experience working with legged systems and practicing both the traj opt and control parts. The case study discussion this week and the paper readings have been a good start."
   ]
  },
  {
   "cell_type": "markdown",
   "id": "e6eca77f",
   "metadata": {},
   "source": [
    "**(9) If applicable, what are you currently running into issues with?**"
   ]
  },
  {
   "cell_type": "markdown",
   "id": "e7cfc4f1",
   "metadata": {},
   "source": [
    "Getting started with modeling the dynamics of the quadruped and the problem in a way that we can use the available resources and focus on the controls. This includes understanding the foot sequence, the jump stance, the different feet dynamics etc. Having some guidance on this and where to look for the resources will be definitely helpful."
   ]
  },
  {
   "cell_type": "markdown",
   "id": "aed4e1da",
   "metadata": {},
   "source": [
    "**(10) If your system doesn't fit with some of the questions above or there are additional things you'd like to elaborate on, please explain/do that here.**"
   ]
  },
  {
   "cell_type": "markdown",
   "id": "74f51a99",
   "metadata": {},
   "source": [
    "Setting up a simulation environment is another area of concern that we have right now. We are not very clear on how we can do that and if using Mujuco or Meshcat or something else would be a better choice."
   ]
  }
 ],
 "metadata": {
  "kernelspec": {
   "display_name": "Julia 1.6.7",
   "language": "julia",
   "name": "julia-1.6"
  },
  "language_info": {
   "file_extension": ".jl",
   "mimetype": "application/julia",
   "name": "julia",
   "version": "1.6.7"
  }
 },
 "nbformat": 4,
 "nbformat_minor": 5
}
